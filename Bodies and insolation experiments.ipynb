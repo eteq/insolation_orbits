{
 "cells": [
  {
   "cell_type": "code",
   "execution_count": null,
   "metadata": {
    "collapsed": true
   },
   "outputs": [],
   "source": [
    "import numpy as np\n",
    "\n",
    "from astropy import units as u\n",
    "from astropy import constants as cnst\n",
    "\n",
    "\n",
    "%matplotlib notebook\n",
    "from matplotlib import style, pyplot as plt\n",
    "from mpl_toolkits.mplot3d import Axes3D"
   ]
  },
  {
   "cell_type": "code",
   "execution_count": null,
   "metadata": {
    "collapsed": false,
    "scrolled": false
   },
   "outputs": [],
   "source": [
    "from importlib import reload\n",
    "\n",
    "import bodies\n",
    "from bodies import solar_system\n",
    "\n",
    "\n",
    "reload(bodies.core)\n",
    "reload(bodies)\n",
    "reload(solar_system)\n",
    "\n",
    "None"
   ]
  },
  {
   "cell_type": "code",
   "execution_count": null,
   "metadata": {
    "collapsed": false
   },
   "outputs": [],
   "source": [
    "plt.figure()\n",
    "solar_system.earth.t = np.linspace(0, 2,1000)*u.day\n",
    "lat = 0*u.deg\n",
    "a, b = solar_system.earth.surface_flux(lat, 0*u.deg, solar_system.sun)\n",
    "plt.plot(solar_system.earth.t, a.dot(b))\n",
    "plt.ylim(-1, 1)\n",
    "plt.xlabel('time')"
   ]
  },
  {
   "cell_type": "code",
   "execution_count": null,
   "metadata": {
    "collapsed": false
   },
   "outputs": [],
   "source": [
    "plt.figure()\n",
    "solar_system.earth.t = 0*u.second\n",
    "lat = np.linspace(-45, 45, 100)*u.deg\n",
    "a, b = solar_system.earth.surface_flux(lat, 0*u.deg, solar_system.sun)\n",
    "plt.plot(lat, a.dot(b))\n",
    "plt.axvline(solar_system.earth.obliquity.value, color='k')\n",
    "plt.axvline(-solar_system.earth.obliquity.value, color='k')\n",
    "plt.xlabel('lat')\n",
    "plt.xlim(-45, 45)"
   ]
  },
  {
   "cell_type": "code",
   "execution_count": null,
   "metadata": {
    "collapsed": false
   },
   "outputs": [],
   "source": [
    "ax = bodies.plot_bodies([solar_system.sun], c='gold')\n",
    "bodies.plot_bodies([solar_system.earth], \n",
    "                   np.linspace(0, 1, 100)*u.yr, ax=ax)\n",
    "\n",
    "\n",
    "ax.set_xlim(-1, 1)\n",
    "ax.set_ylim(-1, 1)\n",
    "ax.set_zlim(-1, 1)"
   ]
  }
 ],
 "metadata": {
  "anaconda-cloud": {},
  "kernelspec": {
   "display_name": "Python [conda env:anaconda36]",
   "language": "python",
   "name": "conda-env-anaconda36-py"
  },
  "language_info": {
   "codemirror_mode": {
    "name": "ipython",
    "version": 3
   },
   "file_extension": ".py",
   "mimetype": "text/x-python",
   "name": "python",
   "nbconvert_exporter": "python",
   "pygments_lexer": "ipython3",
   "version": "3.6.0"
  }
 },
 "nbformat": 4,
 "nbformat_minor": 1
}
