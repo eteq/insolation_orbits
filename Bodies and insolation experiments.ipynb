{
 "cells": [
  {
   "cell_type": "code",
   "execution_count": null,
   "metadata": {
    "collapsed": true
   },
   "outputs": [],
   "source": [
    "import numpy as np\n",
    "\n",
    "from astropy import units as u\n",
    "from astropy import constants as cnst\n",
    "\n",
    "\n",
    "%matplotlib notebook\n",
    "from matplotlib import style, pyplot as plt\n",
    "from mpl_toolkits.mplot3d import Axes3D"
   ]
  },
  {
   "cell_type": "code",
   "execution_count": null,
   "metadata": {
    "collapsed": false,
    "scrolled": false
   },
   "outputs": [],
   "source": [
    "from importlib import reload\n",
    "\n",
    "import bodies\n",
    "from bodies import solar_system\n",
    "\n",
    "\n",
    "reload(bodies.core)\n",
    "reload(bodies)\n",
    "reload(solar_system)\n",
    "\n",
    "None"
   ]
  },
  {
   "cell_type": "code",
   "execution_count": null,
   "metadata": {
    "collapsed": false
   },
   "outputs": [],
   "source": [
    "lat = 0*u.deg\n",
    "lon = 180*u.deg\n",
    "solar_system.earth.t = t = np.linspace(0, 1, 100)*u.day\n",
    "\n",
    "plt.figure()\n",
    "res = solar_system.earth.surface_flux(lat=lat, lon=lon)\n",
    "plt.plot(t, res)\n",
    "plt.xlabel(t.unit)\n",
    "plt.ylabel(res.unit)"
   ]
  },
  {
   "cell_type": "markdown",
   "metadata": {},
   "source": [
    "## Check surface/source vectors "
   ]
  },
  {
   "cell_type": "code",
   "execution_count": null,
   "metadata": {
    "collapsed": true
   },
   "outputs": [],
   "source": [
    "lat = 0*u.deg\n",
    "lon = 180*u.deg"
   ]
  },
  {
   "cell_type": "code",
   "execution_count": null,
   "metadata": {
    "collapsed": false
   },
   "outputs": [],
   "source": [
    "solar_system.earth.t = np.linspace(0, 1, 10)*u.day\n",
    "surf = solar_system.earth.surface_normal(lat=lat, lon=lon)\n",
    "so = (solar_system.sun.loc - solar_system.earth.loc).represent_as(UnitSphericalRepresentation)\n",
    "\n",
    "plt.figure()\n",
    "ax = plt.subplot(projection='3d')\n",
    "\n",
    "\n",
    "\n",
    "length = 1e-2\n",
    "ax.quiver3D(solar_system.earth.loc.x, \n",
    "            solar_system.earth.loc.y, \n",
    "            solar_system.earth.loc.z,\n",
    "            surf.to_cartesian().x, \n",
    "            surf.to_cartesian().y, \n",
    "            surf.to_cartesian().z, \n",
    "           length=length, arrow_length_ratio=0)\n",
    "\n",
    "ax.quiver3D(solar_system.earth.loc.x, \n",
    "            solar_system.earth.loc.y, \n",
    "            solar_system.earth.loc.z,\n",
    "            so.to_cartesian().x, \n",
    "            so.to_cartesian().y, \n",
    "            so.to_cartesian().z, color='y', \n",
    "           length=length, arrow_length_ratio=0)\n",
    "\n",
    "\n",
    "dd = length\n",
    "ax.set_xlim3d(solar_system.earth.loc.x[5].value-dd, solar_system.earth.loc.x[5].value+dd)\n",
    "ax.set_ylim3d(solar_system.earth.loc.y[5].value-dd, solar_system.earth.loc.y[5].value+dd)\n",
    "ax.set_zlim3d(solar_system.earth.loc.z[5].value-dd, solar_system.earth.loc.z[5].value+dd)\n",
    "ax.set_xlabel('x')\n",
    "ax.set_ylabel('y')\n",
    "ax.set_zlabel('z')\n",
    "\n",
    "ax.plot3D(solar_system.earth.loc.x, \n",
    "            solar_system.earth.loc.y, \n",
    "            solar_system.earth.loc.z ,c='k', lw=1)\n",
    "\n",
    "\n",
    "solar_system.earth.loc,su.to_cartesian()"
   ]
  },
  {
   "cell_type": "code",
   "execution_count": null,
   "metadata": {
    "collapsed": false
   },
   "outputs": [],
   "source": [
    "solar_system.earth.t = np.arange(8)*solar_system.earth.orbital_period/8\n",
    "surf = solar_system.earth.surface_normal(lat=lat, lon=lon)\n",
    "so = (solar_system.sun.loc - solar_system.earth.loc).represent_as(UnitSphericalRepresentation)\n",
    "\n",
    "plt.figure()\n",
    "ax = plt.subplot(projection='3d')\n",
    "ax.quiver3D(solar_system.earth.loc.x, \n",
    "            solar_system.earth.loc.y, \n",
    "            solar_system.earth.loc.z,\n",
    "            surf.to_cartesian().x/3, \n",
    "            surf.to_cartesian().y/3, \n",
    "            surf.to_cartesian().z/3)\n",
    "\n",
    "ax.quiver3D(solar_system.earth.loc.x, \n",
    "            solar_system.earth.loc.y, \n",
    "            solar_system.earth.loc.z,\n",
    "            so.to_cartesian().x/3, \n",
    "            so.to_cartesian().y/3, \n",
    "            so.to_cartesian().z/3, color='y')\n",
    "\n",
    "\n",
    "ax.set_xlim3d(-1.2,1.2)\n",
    "ax.set_ylim3d(-1.2,1.2)\n",
    "ax.set_zlim3d(-1.2,1.2)\n",
    "ax.set_xlabel('x')\n",
    "ax.set_ylabel('y')\n",
    "ax.set_zlabel('z')\n",
    "\n",
    "solar_system.earth.t = np.linspace(0, 1, 100)*u.year\n",
    "ax.plot3D(solar_system.earth.loc.x, \n",
    "            solar_system.earth.loc.y, \n",
    "            solar_system.earth.loc.z ,c='k', lw=1)\n",
    "\n",
    "\n",
    "surf.to_cartesian(), so.to_cartesian()"
   ]
  },
  {
   "cell_type": "code",
   "execution_count": null,
   "metadata": {
    "collapsed": true
   },
   "outputs": [],
   "source": []
  },
  {
   "cell_type": "markdown",
   "metadata": {},
   "source": [
    "## Earth Orbital separation"
   ]
  },
  {
   "cell_type": "code",
   "execution_count": null,
   "metadata": {
    "collapsed": false
   },
   "outputs": [],
   "source": [
    "from astropy.coordinates.representation import *\n",
    "\n",
    "plt.figure()\n",
    "solar_system.earth.t = np.linspace(0, 1, 100)*u.year\n",
    "plt.plot(solar_system.earth.t, solar_system.earth.loc.represent_as(SphericalRepresentation).distance)\n",
    "\n",
    "solar_system.earth.orbital_period.to(u.day)"
   ]
  },
  {
   "cell_type": "markdown",
   "metadata": {},
   "source": [
    "## Earth/Sun Orbital Track "
   ]
  },
  {
   "cell_type": "code",
   "execution_count": null,
   "metadata": {
    "collapsed": false
   },
   "outputs": [],
   "source": [
    "plt.figure()\n",
    "\n",
    "ax, _ = bodies.plot_bodies([solar_system.sun], c='gold')\n",
    "t = np.linspace(0, 1, 100)*u.yr\n",
    "_, sc = bodies.plot_bodies([solar_system.earth], t, ax=ax,\n",
    "                   alwaysscatter=True, c=t.to(u.day))\n",
    "plt.colorbar(sc)\n",
    "\n",
    "\n",
    "ax.set_xlim(-1, 1)\n",
    "ax.set_ylim(-1, 1)\n",
    "ax.set_zlim(-1, 1)\n",
    "ax.set_xlabel('x')\n",
    "ax.set_ylabel('y')\n",
    "ax.set_zlabel('z')"
   ]
  },
  {
   "cell_type": "code",
   "execution_count": null,
   "metadata": {
    "collapsed": true
   },
   "outputs": [],
   "source": []
  }
 ],
 "metadata": {
  "anaconda-cloud": {},
  "kernelspec": {
   "display_name": "Python [conda env:anaconda36]",
   "language": "python",
   "name": "conda-env-anaconda36-py"
  },
  "language_info": {
   "codemirror_mode": {
    "name": "ipython",
    "version": 3
   },
   "file_extension": ".py",
   "mimetype": "text/x-python",
   "name": "python",
   "nbconvert_exporter": "python",
   "pygments_lexer": "ipython3",
   "version": "3.6.0"
  }
 },
 "nbformat": 4,
 "nbformat_minor": 1
}
