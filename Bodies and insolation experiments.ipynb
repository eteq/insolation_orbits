{
 "cells": [
  {
   "cell_type": "code",
   "execution_count": null,
   "metadata": {
    "collapsed": true
   },
   "outputs": [],
   "source": [
    "import numpy as np\n",
    "\n",
    "from astropy import units as u\n",
    "from astropy import constants as cnst\n",
    "from astropy.coordinates.representation import *\n",
    "\n",
    "\n",
    "%matplotlib notebook\n",
    "from matplotlib import style, pyplot as plt\n",
    "from mpl_toolkits.mplot3d import Axes3D"
   ]
  },
  {
   "cell_type": "code",
   "execution_count": null,
   "metadata": {
    "collapsed": false,
    "scrolled": false
   },
   "outputs": [],
   "source": [
    "from importlib import reload\n",
    "\n",
    "import bodies\n",
    "from bodies import solar_system\n",
    "\n",
    "\n",
    "reload(bodies.core)\n",
    "reload(bodies)\n",
    "reload(solar_system)\n",
    "\n",
    "None"
   ]
  },
  {
   "cell_type": "markdown",
   "metadata": {},
   "source": [
    "# Titan/Saturn? "
   ]
  },
  {
   "cell_type": "code",
   "execution_count": null,
   "metadata": {
    "collapsed": false
   },
   "outputs": [],
   "source": [
    "saturn = bodies.OrbitingSphericalBody(58232*u.km, 0, 5.6836e26*u.kg, 26.73*u.deg, \n",
    "                                      10.55*u.hour, 9.5549*u.AU, 0.05555, 2.485*u.deg, \n",
    "                                      solar_system.sun)\n",
    "titan = bodies.OrbitingSphericalBody(2575.5*u.km, 0, 1.3452e23*u.kg, saturn.obliquity, \n",
    "                                     15.945*u.day, 1221870*u.km, 0.0288, 0.34854*u.deg, \n",
    "                                     saturn)"
   ]
  },
  {
   "cell_type": "code",
   "execution_count": null,
   "metadata": {
    "collapsed": false
   },
   "outputs": [],
   "source": [
    "solar_power_at_saturn = (solar_system.sun.intensity * (saturn.semimajor**-2 * u.sr) *\n",
    "                         np.pi * saturn.radius**2).to(u.W)\n",
    "\n",
    "# saturn radiates ~2.5x what it receives... assume that's uniform\n",
    "saturn.radiance = 2.5 * solar_power_at_saturn / saturn.surface_area / (4*np.pi*u.sr)"
   ]
  },
  {
   "cell_type": "code",
   "execution_count": null,
   "metadata": {
    "collapsed": false
   },
   "outputs": [],
   "source": [
    "titan.t = np.linspace(0, titan.rotation_period, 100)\n",
    "lat = 0*u.deg\n",
    "lon = 180*u.deg\n",
    "\n",
    "saturnflux = titan.surface_flux(lat=lat, lon=lon, source=saturn)\n",
    "sunflux = titan.surface_flux(lat=lat, lon=lon, source=saturn.parent_body)\n",
    "\n",
    "plt.figure()\n",
    "plt.plot(titan.t, (sunflux + saturnflux).to(u.W * u.m**-2))\n",
    "plt.plot(titan.t, sunflux.to(u.W * u.m**-2), ls='--')\n",
    "plt.plot(titan.t, saturnflux.to(u.W * u.m**-2), ls='-.')"
   ]
  },
  {
   "cell_type": "markdown",
   "metadata": {},
   "source": [
    "# Experiments with Earth"
   ]
  },
  {
   "cell_type": "markdown",
   "metadata": {},
   "source": [
    "## Flux maps "
   ]
  },
  {
   "cell_type": "code",
   "execution_count": null,
   "metadata": {
    "collapsed": false
   },
   "outputs": [],
   "source": [
    "solar_system.earth.average_surface_flux(1*u.deg, 2*u.deg, t0=0*u.day, nsamples=None)"
   ]
  },
  {
   "cell_type": "code",
   "execution_count": null,
   "metadata": {
    "collapsed": false
   },
   "outputs": [],
   "source": [
    "solar_system.earth.average_surface_flux(1*u.deg, 2*u.deg, t0=0*u.day, nsamples=10000)"
   ]
  },
  {
   "cell_type": "code",
   "execution_count": null,
   "metadata": {
    "collapsed": false
   },
   "outputs": [],
   "source": [
    "t0 = 0*u.year\n",
    "\n",
    "fig = plt.figure()\n",
    "\n",
    "lats = np.arcsin(np.random.rand(1000)*2-1)\n",
    "lons = np.random.rand(len(lats))*2*np.pi - np.pi\n",
    "\n",
    "\n",
    "avgfluxs = [solar_system.earth.average_surface_flux(lat=lati*u.rad, lon=loni*u.rad, \n",
    "                                                    t0=t0, nsamples=10000) \n",
    "            for lati, loni in zip(lats, lons)]\n",
    "avgfluxs = u.Quantity(avgfluxs)\n",
    "\n",
    "ax = plt.subplot(projection='hammer')\n",
    "ax.set_xticks([])\n",
    "sc = ax.scatter(lons, lats, s=3, c=avgfluxs)\n",
    "cb = fig.colorbar(sc)\n",
    "cb.set_label(avgfluxs.unit)"
   ]
  },
  {
   "cell_type": "code",
   "execution_count": null,
   "metadata": {
    "collapsed": false
   },
   "outputs": [],
   "source": [
    "t0 = 0.25*u.year\n",
    "\n",
    "fig = plt.figure()\n",
    "\n",
    "lats = np.arcsin(np.random.rand(1000)*2-1)\n",
    "lons = np.random.rand(len(lats))*2*np.pi - np.pi\n",
    "\n",
    "\n",
    "avgfluxs = [solar_system.earth.average_surface_flux(lat=lati*u.rad, lon=loni*u.rad, \n",
    "                                                    t0=t0, nsamples=10000) \n",
    "            for lati, loni in zip(lats, lons)]\n",
    "avgfluxs = u.Quantity(avgfluxs)\n",
    "\n",
    "ax = plt.subplot(projection='hammer')\n",
    "ax.set_xticks([])\n",
    "sc = ax.scatter(lons, lats, s=3, c=avgfluxs)\n",
    "cb = fig.colorbar(sc)\n",
    "cb.set_label(avgfluxs.unit)"
   ]
  },
  {
   "cell_type": "code",
   "execution_count": null,
   "metadata": {
    "collapsed": false
   },
   "outputs": [],
   "source": [
    "t0 = 0.75*u.year\n",
    "\n",
    "fig = plt.figure()\n",
    "\n",
    "lats = np.arcsin(np.random.rand(1000)*2-1)\n",
    "lons = np.random.rand(len(lats))*2*np.pi - np.pi\n",
    "\n",
    "\n",
    "avgfluxs = [solar_system.earth.average_surface_flux(lat=lati*u.rad, lon=loni*u.rad, \n",
    "                                                    t0=t0, nsamples=10000) \n",
    "            for lati, loni in zip(lats, lons)]\n",
    "avgfluxs = u.Quantity(avgfluxs)\n",
    "\n",
    "ax = plt.subplot(projection='hammer')\n",
    "ax.set_xticks([])\n",
    "sc = ax.scatter(lons, lats, s=3, c=avgfluxs)\n",
    "cb = fig.colorbar(sc)\n",
    "cb.set_label(avgfluxs.unit)"
   ]
  },
  {
   "cell_type": "markdown",
   "metadata": {},
   "source": [
    "## Yearly average "
   ]
  },
  {
   "cell_type": "code",
   "execution_count": null,
   "metadata": {
    "collapsed": false
   },
   "outputs": [],
   "source": [
    "t0 = 0.0*u.year\n",
    "\n",
    "fig = plt.figure()\n",
    "\n",
    "lats = np.arcsin(np.random.rand(1000)*2-1)\n",
    "lons = np.random.rand(len(lats))*2*np.pi - np.pi\n",
    "\n",
    "\n",
    "avgfluxs = [solar_system.earth.average_surface_flux(lat=lati*u.rad, lon=loni*u.rad, \n",
    "                                                    t0=t0, nsamples=100000, \n",
    "                                                    timespan=1*u.year) \n",
    "            for lati, loni in zip(lats, lons)]\n",
    "avgfluxs = u.Quantity(avgfluxs)\n",
    "\n",
    "ax = plt.subplot(projection='hammer')\n",
    "ax.set_xticks([])\n",
    "sc = ax.scatter(lons, lats, s=3, c=avgfluxs)\n",
    "cb = fig.colorbar(sc)\n",
    "cb.set_label(avgfluxs.unit)"
   ]
  },
  {
   "cell_type": "markdown",
   "metadata": {},
   "source": [
    "## Average over day for various latitudes "
   ]
  },
  {
   "cell_type": "code",
   "execution_count": null,
   "metadata": {
    "collapsed": false,
    "scrolled": false
   },
   "outputs": [],
   "source": [
    "lon=0*u.deg\n",
    "\n",
    "for lat in np.linspace(-90, 90, 9)[1:-1]*u.deg:\n",
    "    ts = np.linspace(0, 1, 100)*u.year\n",
    "\n",
    "    avgfluxes = [solar_system.earth.average_surface_flux(lat=lat, lon=lon, \n",
    "                                                        t0=ti, nsamples=10000) \n",
    "                for ti in ts]\n",
    "\n",
    "    plt.figure()\n",
    "    plt.plot(ts, u.Quantity(avgfluxes))\n",
    "\n",
    "    plt.title(f'lat={lat}')\n",
    "    plt.xlabel(ts.unit)\n",
    "    plt.ylabel(avgfluxes[0].unit)"
   ]
  },
  {
   "cell_type": "markdown",
   "metadata": {},
   "source": [
    "## Surface Flux over a day"
   ]
  },
  {
   "cell_type": "code",
   "execution_count": null,
   "metadata": {
    "collapsed": false
   },
   "outputs": [],
   "source": [
    "lat = 0*u.deg\n",
    "lon = 180*u.deg\n",
    "solar_system.earth.t = t = np.linspace(0, 1, 100)*u.day\n",
    "\n",
    "plt.figure()\n",
    "res = solar_system.earth.surface_flux(lat=lat, lon=lon)\n",
    "plt.plot(t, res)\n",
    "plt.xlabel(t.unit)\n",
    "plt.ylabel(res.unit)\n",
    "\n",
    "solar_system.earth.average_surface_flux(lat=lat, lon=lon, t0=0*u.day)"
   ]
  },
  {
   "cell_type": "code",
   "execution_count": null,
   "metadata": {
    "collapsed": false,
    "scrolled": false
   },
   "outputs": [],
   "source": [
    "t0 = 0.25 * u.year\n",
    "lat = 0*u.deg\n",
    "lon = 180*u.deg\n",
    "\n",
    "\n",
    "plt.figure()\n",
    "solar_system.earth.t = t = np.linspace(0, 1, 100)*u.day + t0\n",
    "res = solar_system.earth.surface_flux(lat=lat, lon=lon)\n",
    "plt.plot(t, res)\n",
    "plt.xlabel(t.unit)\n",
    "plt.ylabel(res.unit)\n",
    "\n",
    "solar_system.earth.average_surface_flux(lat=lat, lon=lon, t0=t0)"
   ]
  },
  {
   "cell_type": "markdown",
   "metadata": {},
   "source": [
    "## Check surface/source vectors "
   ]
  },
  {
   "cell_type": "code",
   "execution_count": null,
   "metadata": {
    "collapsed": true
   },
   "outputs": [],
   "source": [
    "lat = 0*u.deg\n",
    "lon = 180*u.deg"
   ]
  },
  {
   "cell_type": "code",
   "execution_count": null,
   "metadata": {
    "collapsed": false
   },
   "outputs": [],
   "source": [
    "solar_system.earth.t = np.linspace(0, 1, 10)*u.day\n",
    "surf = solar_system.earth.surface_normal(lat=lat, lon=lon)\n",
    "so = (solar_system.sun.loc - solar_system.earth.loc).represent_as(UnitSphericalRepresentation)\n",
    "\n",
    "plt.figure()\n",
    "ax = plt.subplot(projection='3d')\n",
    "\n",
    "\n",
    "\n",
    "length = 1e-2\n",
    "ax.quiver3D(solar_system.earth.loc.x, \n",
    "            solar_system.earth.loc.y, \n",
    "            solar_system.earth.loc.z,\n",
    "            surf.to_cartesian().x, \n",
    "            surf.to_cartesian().y, \n",
    "            surf.to_cartesian().z, \n",
    "           length=length, arrow_length_ratio=0)\n",
    "\n",
    "ax.quiver3D(solar_system.earth.loc.x, \n",
    "            solar_system.earth.loc.y, \n",
    "            solar_system.earth.loc.z,\n",
    "            so.to_cartesian().x, \n",
    "            so.to_cartesian().y, \n",
    "            so.to_cartesian().z, color='y', \n",
    "           length=length, arrow_length_ratio=0)\n",
    "\n",
    "\n",
    "dd = length\n",
    "ax.set_xlim3d(solar_system.earth.loc.x[5].value-dd, solar_system.earth.loc.x[5].value+dd)\n",
    "ax.set_ylim3d(solar_system.earth.loc.y[5].value-dd, solar_system.earth.loc.y[5].value+dd)\n",
    "ax.set_zlim3d(solar_system.earth.loc.z[5].value-dd, solar_system.earth.loc.z[5].value+dd)\n",
    "ax.set_xlabel('x')\n",
    "ax.set_ylabel('y')\n",
    "ax.set_zlabel('z')\n",
    "\n",
    "ax.plot3D(solar_system.earth.loc.x, \n",
    "            solar_system.earth.loc.y, \n",
    "            solar_system.earth.loc.z ,c='k', lw=1)\n",
    "\n",
    "\n",
    "solar_system.earth.loc,surf.to_cartesian()"
   ]
  },
  {
   "cell_type": "code",
   "execution_count": null,
   "metadata": {
    "collapsed": false
   },
   "outputs": [],
   "source": [
    "solar_system.earth.t = np.arange(8)*solar_system.earth.orbital_period/8\n",
    "surf = solar_system.earth.surface_normal(lat=lat, lon=lon)\n",
    "so = (solar_system.sun.loc - solar_system.earth.loc).represent_as(UnitSphericalRepresentation)\n",
    "\n",
    "plt.figure()\n",
    "ax = plt.subplot(projection='3d')\n",
    "ax.quiver3D(solar_system.earth.loc.x, \n",
    "            solar_system.earth.loc.y, \n",
    "            solar_system.earth.loc.z,\n",
    "            surf.to_cartesian().x/3, \n",
    "            surf.to_cartesian().y/3, \n",
    "            surf.to_cartesian().z/3)\n",
    "\n",
    "ax.quiver3D(solar_system.earth.loc.x, \n",
    "            solar_system.earth.loc.y, \n",
    "            solar_system.earth.loc.z,\n",
    "            so.to_cartesian().x/3, \n",
    "            so.to_cartesian().y/3, \n",
    "            so.to_cartesian().z/3, color='y')\n",
    "\n",
    "\n",
    "ax.set_xlim3d(-1.2,1.2)\n",
    "ax.set_ylim3d(-1.2,1.2)\n",
    "ax.set_zlim3d(-1.2,1.2)\n",
    "ax.set_xlabel('x')\n",
    "ax.set_ylabel('y')\n",
    "ax.set_zlabel('z')\n",
    "\n",
    "solar_system.earth.t = np.linspace(0, 1, 100)*u.year\n",
    "ax.plot3D(solar_system.earth.loc.x, \n",
    "            solar_system.earth.loc.y, \n",
    "            solar_system.earth.loc.z ,c='k', lw=1)\n",
    "\n",
    "\n",
    "surf.to_cartesian(), so.to_cartesian()"
   ]
  },
  {
   "cell_type": "markdown",
   "metadata": {},
   "source": [
    "## Earth Orbital separation"
   ]
  },
  {
   "cell_type": "code",
   "execution_count": null,
   "metadata": {
    "collapsed": false
   },
   "outputs": [],
   "source": [
    "from astropy.coordinates.representation import *\n",
    "\n",
    "plt.figure()\n",
    "solar_system.earth.t = np.linspace(0, 1, 100)*u.year\n",
    "plt.plot(solar_system.earth.t, solar_system.earth.loc.represent_as(SphericalRepresentation).distance)\n",
    "\n",
    "solar_system.earth.orbital_period.to(u.day)"
   ]
  },
  {
   "cell_type": "markdown",
   "metadata": {},
   "source": [
    "## Earth/Sun Orbital Track "
   ]
  },
  {
   "cell_type": "code",
   "execution_count": null,
   "metadata": {
    "collapsed": false
   },
   "outputs": [],
   "source": [
    "plt.figure()\n",
    "\n",
    "ax, _ = bodies.plot_bodies([solar_system.sun], c='gold')\n",
    "t = np.linspace(0, 1, 100)*u.yr\n",
    "_, sc = bodies.plot_bodies([solar_system.earth], t, ax=ax,\n",
    "                   alwaysscatter=True, c=t.to(u.day))\n",
    "plt.colorbar(sc)\n",
    "\n",
    "\n",
    "ax.set_xlim(-1, 1)\n",
    "ax.set_ylim(-1, 1)\n",
    "ax.set_zlim(-1, 1)\n",
    "ax.set_xlabel('x')\n",
    "ax.set_ylabel('y')\n",
    "ax.set_zlabel('z')"
   ]
  }
 ],
 "metadata": {
  "anaconda-cloud": {},
  "kernelspec": {
   "display_name": "Python [conda env:anaconda36]",
   "language": "python",
   "name": "conda-env-anaconda36-py"
  },
  "language_info": {
   "codemirror_mode": {
    "name": "ipython",
    "version": 3
   },
   "file_extension": ".py",
   "mimetype": "text/x-python",
   "name": "python",
   "nbconvert_exporter": "python",
   "pygments_lexer": "ipython3",
   "version": "3.6.0"
  }
 },
 "nbformat": 4,
 "nbformat_minor": 1
}
